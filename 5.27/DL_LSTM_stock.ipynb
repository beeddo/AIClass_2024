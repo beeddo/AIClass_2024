{
 "cells": [
  {
   "cell_type": "code",
   "execution_count": 1,
   "id": "fc0374c8",
   "metadata": {},
   "outputs": [],
   "source": [
    "import datetime\n",
    "import time\n",
    "import pandas as pd\n",
    "import numpy as np\n",
    "import matplotlib.pyplot as plt\n",
    "import tensorflow as tf"
   ]
  },
  {
   "cell_type": "code",
   "execution_count": 2,
   "id": "d3bb799a",
   "metadata": {},
   "outputs": [],
   "source": [
    "stock = pd.read_csv(\"C:/AI/stock.csv\")"
   ]
  },
  {
   "cell_type": "code",
   "execution_count": 3,
   "id": "fe7293fc",
   "metadata": {},
   "outputs": [
    {
     "data": {
      "text/html": [
       "<div>\n",
       "<style scoped>\n",
       "    .dataframe tbody tr th:only-of-type {\n",
       "        vertical-align: middle;\n",
       "    }\n",
       "\n",
       "    .dataframe tbody tr th {\n",
       "        vertical-align: top;\n",
       "    }\n",
       "\n",
       "    .dataframe thead th {\n",
       "        text-align: right;\n",
       "    }\n",
       "</style>\n",
       "<table border=\"1\" class=\"dataframe\">\n",
       "  <thead>\n",
       "    <tr style=\"text-align: right;\">\n",
       "      <th></th>\n",
       "      <th>일자</th>\n",
       "      <th>종목코드</th>\n",
       "      <th>종목명</th>\n",
       "      <th>거래량</th>\n",
       "      <th>시가</th>\n",
       "      <th>고가</th>\n",
       "      <th>저가</th>\n",
       "      <th>종가</th>\n",
       "    </tr>\n",
       "  </thead>\n",
       "  <tbody>\n",
       "    <tr>\n",
       "      <th>0</th>\n",
       "      <td>20210601</td>\n",
       "      <td>A060310</td>\n",
       "      <td>3S</td>\n",
       "      <td>166690</td>\n",
       "      <td>2890</td>\n",
       "      <td>2970</td>\n",
       "      <td>2885</td>\n",
       "      <td>2920</td>\n",
       "    </tr>\n",
       "    <tr>\n",
       "      <th>1</th>\n",
       "      <td>20210601</td>\n",
       "      <td>A095570</td>\n",
       "      <td>AJ네트웍스</td>\n",
       "      <td>63836</td>\n",
       "      <td>5860</td>\n",
       "      <td>5940</td>\n",
       "      <td>5750</td>\n",
       "      <td>5780</td>\n",
       "    </tr>\n",
       "    <tr>\n",
       "      <th>2</th>\n",
       "      <td>20210601</td>\n",
       "      <td>A006840</td>\n",
       "      <td>AK홀딩스</td>\n",
       "      <td>103691</td>\n",
       "      <td>35500</td>\n",
       "      <td>35600</td>\n",
       "      <td>34150</td>\n",
       "      <td>34400</td>\n",
       "    </tr>\n",
       "    <tr>\n",
       "      <th>3</th>\n",
       "      <td>20210601</td>\n",
       "      <td>A054620</td>\n",
       "      <td>APS</td>\n",
       "      <td>462544</td>\n",
       "      <td>14600</td>\n",
       "      <td>14950</td>\n",
       "      <td>13800</td>\n",
       "      <td>14950</td>\n",
       "    </tr>\n",
       "    <tr>\n",
       "      <th>4</th>\n",
       "      <td>20210601</td>\n",
       "      <td>A265520</td>\n",
       "      <td>AP시스템</td>\n",
       "      <td>131987</td>\n",
       "      <td>29150</td>\n",
       "      <td>29150</td>\n",
       "      <td>28800</td>\n",
       "      <td>29050</td>\n",
       "    </tr>\n",
       "    <tr>\n",
       "      <th>...</th>\n",
       "      <td>...</td>\n",
       "      <td>...</td>\n",
       "      <td>...</td>\n",
       "      <td>...</td>\n",
       "      <td>...</td>\n",
       "      <td>...</td>\n",
       "      <td>...</td>\n",
       "      <td>...</td>\n",
       "    </tr>\n",
       "    <tr>\n",
       "      <th>987995</th>\n",
       "      <td>20230530</td>\n",
       "      <td>A189980</td>\n",
       "      <td>흥국에프엔비</td>\n",
       "      <td>272284</td>\n",
       "      <td>3005</td>\n",
       "      <td>3035</td>\n",
       "      <td>2955</td>\n",
       "      <td>2980</td>\n",
       "    </tr>\n",
       "    <tr>\n",
       "      <th>987996</th>\n",
       "      <td>20230530</td>\n",
       "      <td>A000540</td>\n",
       "      <td>흥국화재</td>\n",
       "      <td>50218</td>\n",
       "      <td>3250</td>\n",
       "      <td>3255</td>\n",
       "      <td>3195</td>\n",
       "      <td>3215</td>\n",
       "    </tr>\n",
       "    <tr>\n",
       "      <th>987997</th>\n",
       "      <td>20230530</td>\n",
       "      <td>A003280</td>\n",
       "      <td>흥아해운</td>\n",
       "      <td>130664</td>\n",
       "      <td>1344</td>\n",
       "      <td>1395</td>\n",
       "      <td>1340</td>\n",
       "      <td>1370</td>\n",
       "    </tr>\n",
       "    <tr>\n",
       "      <th>987998</th>\n",
       "      <td>20230530</td>\n",
       "      <td>A037440</td>\n",
       "      <td>희림</td>\n",
       "      <td>141932</td>\n",
       "      <td>9170</td>\n",
       "      <td>9260</td>\n",
       "      <td>9170</td>\n",
       "      <td>9200</td>\n",
       "    </tr>\n",
       "    <tr>\n",
       "      <th>987999</th>\n",
       "      <td>20230530</td>\n",
       "      <td>A238490</td>\n",
       "      <td>힘스</td>\n",
       "      <td>2611843</td>\n",
       "      <td>6410</td>\n",
       "      <td>8220</td>\n",
       "      <td>6300</td>\n",
       "      <td>8220</td>\n",
       "    </tr>\n",
       "  </tbody>\n",
       "</table>\n",
       "<p>988000 rows × 8 columns</p>\n",
       "</div>"
      ],
      "text/plain": [
       "              일자     종목코드     종목명      거래량     시가     고가     저가     종가\n",
       "0       20210601  A060310      3S   166690   2890   2970   2885   2920\n",
       "1       20210601  A095570  AJ네트웍스    63836   5860   5940   5750   5780\n",
       "2       20210601  A006840   AK홀딩스   103691  35500  35600  34150  34400\n",
       "3       20210601  A054620     APS   462544  14600  14950  13800  14950\n",
       "4       20210601  A265520   AP시스템   131987  29150  29150  28800  29050\n",
       "...          ...      ...     ...      ...    ...    ...    ...    ...\n",
       "987995  20230530  A189980  흥국에프엔비   272284   3005   3035   2955   2980\n",
       "987996  20230530  A000540    흥국화재    50218   3250   3255   3195   3215\n",
       "987997  20230530  A003280    흥아해운   130664   1344   1395   1340   1370\n",
       "987998  20230530  A037440      희림   141932   9170   9260   9170   9200\n",
       "987999  20230530  A238490      힘스  2611843   6410   8220   6300   8220\n",
       "\n",
       "[988000 rows x 8 columns]"
      ]
     },
     "execution_count": 3,
     "metadata": {},
     "output_type": "execute_result"
    }
   ],
   "source": [
    "stock"
   ]
  },
  {
   "cell_type": "code",
   "execution_count": 4,
   "id": "9d71e0a9",
   "metadata": {},
   "outputs": [],
   "source": [
    "stock.columns = ['Date', 'Code', 'Name', 'Volume', 'Open', 'High', 'Low','Close']"
   ]
  },
  {
   "cell_type": "code",
   "execution_count": 5,
   "id": "45d9be37",
   "metadata": {},
   "outputs": [
    {
     "data": {
      "text/plain": [
       "Name\n",
       "3S         494\n",
       "유화증권       494\n",
       "이녹스        494\n",
       "이노테라피      494\n",
       "이노와이어리스    494\n",
       "          ... \n",
       "바이브컴퍼니     494\n",
       "바이넥스       494\n",
       "바른손이앤에이    494\n",
       "바른손        494\n",
       "힘스         494\n",
       "Name: count, Length: 2000, dtype: int64"
      ]
     },
     "execution_count": 5,
     "metadata": {},
     "output_type": "execute_result"
    }
   ],
   "source": [
    "stock['Name'].value_counts()"
   ]
  },
  {
   "cell_type": "code",
   "execution_count": 6,
   "id": "4f0e461e",
   "metadata": {},
   "outputs": [],
   "source": [
    "stock_Pr = stock[stock['Code']=='A054620']"
   ]
  },
  {
   "cell_type": "code",
   "execution_count": 7,
   "id": "700ce776",
   "metadata": {},
   "outputs": [],
   "source": [
    "stock_Pr = stock_Pr [['Date', 'Open', 'High', 'Low', 'Close', 'Volume']]"
   ]
  },
  {
   "cell_type": "code",
   "execution_count": 8,
   "id": "7c8890d2",
   "metadata": {},
   "outputs": [
    {
     "data": {
      "text/html": [
       "<div>\n",
       "<style scoped>\n",
       "    .dataframe tbody tr th:only-of-type {\n",
       "        vertical-align: middle;\n",
       "    }\n",
       "\n",
       "    .dataframe tbody tr th {\n",
       "        vertical-align: top;\n",
       "    }\n",
       "\n",
       "    .dataframe thead th {\n",
       "        text-align: right;\n",
       "    }\n",
       "</style>\n",
       "<table border=\"1\" class=\"dataframe\">\n",
       "  <thead>\n",
       "    <tr style=\"text-align: right;\">\n",
       "      <th></th>\n",
       "      <th>Date</th>\n",
       "      <th>Open</th>\n",
       "      <th>High</th>\n",
       "      <th>Low</th>\n",
       "      <th>Close</th>\n",
       "      <th>Volume</th>\n",
       "    </tr>\n",
       "  </thead>\n",
       "  <tbody>\n",
       "    <tr>\n",
       "      <th>3</th>\n",
       "      <td>20210601</td>\n",
       "      <td>14600</td>\n",
       "      <td>14950</td>\n",
       "      <td>13800</td>\n",
       "      <td>14950</td>\n",
       "      <td>462544</td>\n",
       "    </tr>\n",
       "    <tr>\n",
       "      <th>2003</th>\n",
       "      <td>20210602</td>\n",
       "      <td>14950</td>\n",
       "      <td>15250</td>\n",
       "      <td>14400</td>\n",
       "      <td>14500</td>\n",
       "      <td>168599</td>\n",
       "    </tr>\n",
       "    <tr>\n",
       "      <th>4003</th>\n",
       "      <td>20210603</td>\n",
       "      <td>14500</td>\n",
       "      <td>14700</td>\n",
       "      <td>14100</td>\n",
       "      <td>14550</td>\n",
       "      <td>204621</td>\n",
       "    </tr>\n",
       "    <tr>\n",
       "      <th>6003</th>\n",
       "      <td>20210604</td>\n",
       "      <td>14450</td>\n",
       "      <td>14650</td>\n",
       "      <td>14200</td>\n",
       "      <td>14250</td>\n",
       "      <td>84634</td>\n",
       "    </tr>\n",
       "    <tr>\n",
       "      <th>8003</th>\n",
       "      <td>20210607</td>\n",
       "      <td>14250</td>\n",
       "      <td>14900</td>\n",
       "      <td>13900</td>\n",
       "      <td>14900</td>\n",
       "      <td>201245</td>\n",
       "    </tr>\n",
       "    <tr>\n",
       "      <th>...</th>\n",
       "      <td>...</td>\n",
       "      <td>...</td>\n",
       "      <td>...</td>\n",
       "      <td>...</td>\n",
       "      <td>...</td>\n",
       "      <td>...</td>\n",
       "    </tr>\n",
       "    <tr>\n",
       "      <th>978003</th>\n",
       "      <td>20230523</td>\n",
       "      <td>11500</td>\n",
       "      <td>11580</td>\n",
       "      <td>10910</td>\n",
       "      <td>11180</td>\n",
       "      <td>523799</td>\n",
       "    </tr>\n",
       "    <tr>\n",
       "      <th>980003</th>\n",
       "      <td>20230524</td>\n",
       "      <td>11180</td>\n",
       "      <td>11360</td>\n",
       "      <td>10650</td>\n",
       "      <td>10700</td>\n",
       "      <td>175402</td>\n",
       "    </tr>\n",
       "    <tr>\n",
       "      <th>982003</th>\n",
       "      <td>20230525</td>\n",
       "      <td>10700</td>\n",
       "      <td>11900</td>\n",
       "      <td>10700</td>\n",
       "      <td>11250</td>\n",
       "      <td>449624</td>\n",
       "    </tr>\n",
       "    <tr>\n",
       "      <th>984003</th>\n",
       "      <td>20230526</td>\n",
       "      <td>11300</td>\n",
       "      <td>11800</td>\n",
       "      <td>11020</td>\n",
       "      <td>11150</td>\n",
       "      <td>128997</td>\n",
       "    </tr>\n",
       "    <tr>\n",
       "      <th>986003</th>\n",
       "      <td>20230530</td>\n",
       "      <td>11170</td>\n",
       "      <td>11320</td>\n",
       "      <td>10930</td>\n",
       "      <td>11300</td>\n",
       "      <td>87707</td>\n",
       "    </tr>\n",
       "  </tbody>\n",
       "</table>\n",
       "<p>494 rows × 6 columns</p>\n",
       "</div>"
      ],
      "text/plain": [
       "            Date   Open   High    Low  Close  Volume\n",
       "3       20210601  14600  14950  13800  14950  462544\n",
       "2003    20210602  14950  15250  14400  14500  168599\n",
       "4003    20210603  14500  14700  14100  14550  204621\n",
       "6003    20210604  14450  14650  14200  14250   84634\n",
       "8003    20210607  14250  14900  13900  14900  201245\n",
       "...          ...    ...    ...    ...    ...     ...\n",
       "978003  20230523  11500  11580  10910  11180  523799\n",
       "980003  20230524  11180  11360  10650  10700  175402\n",
       "982003  20230525  10700  11900  10700  11250  449624\n",
       "984003  20230526  11300  11800  11020  11150  128997\n",
       "986003  20230530  11170  11320  10930  11300   87707\n",
       "\n",
       "[494 rows x 6 columns]"
      ]
     },
     "execution_count": 8,
     "metadata": {},
     "output_type": "execute_result"
    }
   ],
   "source": [
    "stock_Pr"
   ]
  },
  {
   "cell_type": "code",
   "execution_count": 9,
   "id": "e6e58681",
   "metadata": {},
   "outputs": [
    {
     "data": {
      "text/plain": [
       "Date\n",
       "20210601    1\n",
       "20221017    1\n",
       "20221013    1\n",
       "20221012    1\n",
       "20221011    1\n",
       "           ..\n",
       "20220120    1\n",
       "20220119    1\n",
       "20220118    1\n",
       "20220117    1\n",
       "20230530    1\n",
       "Name: count, Length: 494, dtype: int64"
      ]
     },
     "execution_count": 9,
     "metadata": {},
     "output_type": "execute_result"
    }
   ],
   "source": [
    "stock_Pr['Date'].value_counts()"
   ]
  },
  {
   "cell_type": "code",
   "execution_count": 10,
   "id": "9b79a801",
   "metadata": {},
   "outputs": [],
   "source": [
    "def MinMaxScaler(data):\n",
    "    \"\"\"최솟값과 최댓값을 이용하여 0 ~ 1 값으로 변환\"\"\"\n",
    "    numerator = data - np.min(data, 0)\n",
    "    denominator = np.max(data, 0) - np.min(data, 0)\n",
    "    # 0으로 나누기 에러가 발생하지 않도록 매우 작은 값(1e-7)을 더해서 나눔\n",
    "    return numerator / (denominator + 1e-7)"
   ]
  },
  {
   "cell_type": "code",
   "execution_count": 11,
   "id": "262094d8",
   "metadata": {},
   "outputs": [
    {
     "data": {
      "text/html": [
       "<div>\n",
       "<style scoped>\n",
       "    .dataframe tbody tr th:only-of-type {\n",
       "        vertical-align: middle;\n",
       "    }\n",
       "\n",
       "    .dataframe tbody tr th {\n",
       "        vertical-align: top;\n",
       "    }\n",
       "\n",
       "    .dataframe thead th {\n",
       "        text-align: right;\n",
       "    }\n",
       "</style>\n",
       "<table border=\"1\" class=\"dataframe\">\n",
       "  <thead>\n",
       "    <tr style=\"text-align: right;\">\n",
       "      <th></th>\n",
       "      <th>Open</th>\n",
       "      <th>High</th>\n",
       "      <th>Low</th>\n",
       "      <th>Volume</th>\n",
       "    </tr>\n",
       "  </thead>\n",
       "  <tbody>\n",
       "    <tr>\n",
       "      <th>3</th>\n",
       "      <td>0.444077</td>\n",
       "      <td>0.455446</td>\n",
       "      <td>0.421405</td>\n",
       "      <td>0.225363</td>\n",
       "    </tr>\n",
       "    <tr>\n",
       "      <th>2003</th>\n",
       "      <td>0.467240</td>\n",
       "      <td>0.475248</td>\n",
       "      <td>0.461538</td>\n",
       "      <td>0.079380</td>\n",
       "    </tr>\n",
       "    <tr>\n",
       "      <th>4003</th>\n",
       "      <td>0.437459</td>\n",
       "      <td>0.438944</td>\n",
       "      <td>0.441472</td>\n",
       "      <td>0.097269</td>\n",
       "    </tr>\n",
       "    <tr>\n",
       "      <th>6003</th>\n",
       "      <td>0.434150</td>\n",
       "      <td>0.435644</td>\n",
       "      <td>0.448161</td>\n",
       "      <td>0.037680</td>\n",
       "    </tr>\n",
       "    <tr>\n",
       "      <th>8003</th>\n",
       "      <td>0.420913</td>\n",
       "      <td>0.452145</td>\n",
       "      <td>0.428094</td>\n",
       "      <td>0.095593</td>\n",
       "    </tr>\n",
       "    <tr>\n",
       "      <th>...</th>\n",
       "      <td>...</td>\n",
       "      <td>...</td>\n",
       "      <td>...</td>\n",
       "      <td>...</td>\n",
       "    </tr>\n",
       "    <tr>\n",
       "      <th>978003</th>\n",
       "      <td>0.238915</td>\n",
       "      <td>0.233003</td>\n",
       "      <td>0.228094</td>\n",
       "      <td>0.255784</td>\n",
       "    </tr>\n",
       "    <tr>\n",
       "      <th>980003</th>\n",
       "      <td>0.217737</td>\n",
       "      <td>0.218482</td>\n",
       "      <td>0.210702</td>\n",
       "      <td>0.082758</td>\n",
       "    </tr>\n",
       "    <tr>\n",
       "      <th>982003</th>\n",
       "      <td>0.185970</td>\n",
       "      <td>0.254125</td>\n",
       "      <td>0.214047</td>\n",
       "      <td>0.218946</td>\n",
       "    </tr>\n",
       "    <tr>\n",
       "      <th>984003</th>\n",
       "      <td>0.225678</td>\n",
       "      <td>0.247525</td>\n",
       "      <td>0.235452</td>\n",
       "      <td>0.059712</td>\n",
       "    </tr>\n",
       "    <tr>\n",
       "      <th>986003</th>\n",
       "      <td>0.217075</td>\n",
       "      <td>0.215842</td>\n",
       "      <td>0.229431</td>\n",
       "      <td>0.039206</td>\n",
       "    </tr>\n",
       "  </tbody>\n",
       "</table>\n",
       "<p>494 rows × 4 columns</p>\n",
       "</div>"
      ],
      "text/plain": [
       "            Open      High       Low    Volume\n",
       "3       0.444077  0.455446  0.421405  0.225363\n",
       "2003    0.467240  0.475248  0.461538  0.079380\n",
       "4003    0.437459  0.438944  0.441472  0.097269\n",
       "6003    0.434150  0.435644  0.448161  0.037680\n",
       "8003    0.420913  0.452145  0.428094  0.095593\n",
       "...          ...       ...       ...       ...\n",
       "978003  0.238915  0.233003  0.228094  0.255784\n",
       "980003  0.217737  0.218482  0.210702  0.082758\n",
       "982003  0.185970  0.254125  0.214047  0.218946\n",
       "984003  0.225678  0.247525  0.235452  0.059712\n",
       "986003  0.217075  0.215842  0.229431  0.039206\n",
       "\n",
       "[494 rows x 4 columns]"
      ]
     },
     "execution_count": 11,
     "metadata": {},
     "output_type": "execute_result"
    }
   ],
   "source": [
    "dfx = stock_Pr[['Open','High','Low','Volume', 'Close']]\n",
    "dfx = MinMaxScaler(dfx)\n",
    "dfy = dfx[['Close']]\n",
    "dfx = dfx[['Open','High','Low','Volume']]\n",
    "dfx"
   ]
  },
  {
   "cell_type": "code",
   "execution_count": 12,
   "id": "7a4a7305",
   "metadata": {},
   "outputs": [
    {
     "data": {
      "text/html": [
       "<div>\n",
       "<style scoped>\n",
       "    .dataframe tbody tr th:only-of-type {\n",
       "        vertical-align: middle;\n",
       "    }\n",
       "\n",
       "    .dataframe tbody tr th {\n",
       "        vertical-align: top;\n",
       "    }\n",
       "\n",
       "    .dataframe thead th {\n",
       "        text-align: right;\n",
       "    }\n",
       "</style>\n",
       "<table border=\"1\" class=\"dataframe\">\n",
       "  <thead>\n",
       "    <tr style=\"text-align: right;\">\n",
       "      <th></th>\n",
       "      <th>Open</th>\n",
       "      <th>High</th>\n",
       "      <th>Low</th>\n",
       "      <th>Volume</th>\n",
       "    </tr>\n",
       "  </thead>\n",
       "  <tbody>\n",
       "    <tr>\n",
       "      <th>count</th>\n",
       "      <td>494.000000</td>\n",
       "      <td>494.000000</td>\n",
       "      <td>494.000000</td>\n",
       "      <td>494.000000</td>\n",
       "    </tr>\n",
       "    <tr>\n",
       "      <th>mean</th>\n",
       "      <td>0.370041</td>\n",
       "      <td>0.383290</td>\n",
       "      <td>0.373917</td>\n",
       "      <td>0.057842</td>\n",
       "    </tr>\n",
       "    <tr>\n",
       "      <th>std</th>\n",
       "      <td>0.198733</td>\n",
       "      <td>0.206315</td>\n",
       "      <td>0.193206</td>\n",
       "      <td>0.090380</td>\n",
       "    </tr>\n",
       "    <tr>\n",
       "      <th>min</th>\n",
       "      <td>0.000000</td>\n",
       "      <td>0.000000</td>\n",
       "      <td>0.000000</td>\n",
       "      <td>0.000000</td>\n",
       "    </tr>\n",
       "    <tr>\n",
       "      <th>25%</th>\n",
       "      <td>0.245698</td>\n",
       "      <td>0.254125</td>\n",
       "      <td>0.254181</td>\n",
       "      <td>0.017957</td>\n",
       "    </tr>\n",
       "    <tr>\n",
       "      <th>50%</th>\n",
       "      <td>0.338187</td>\n",
       "      <td>0.346535</td>\n",
       "      <td>0.346154</td>\n",
       "      <td>0.034123</td>\n",
       "    </tr>\n",
       "    <tr>\n",
       "      <th>75%</th>\n",
       "      <td>0.467075</td>\n",
       "      <td>0.471452</td>\n",
       "      <td>0.461538</td>\n",
       "      <td>0.063309</td>\n",
       "    </tr>\n",
       "    <tr>\n",
       "      <th>max</th>\n",
       "      <td>1.000000</td>\n",
       "      <td>1.000000</td>\n",
       "      <td>1.000000</td>\n",
       "      <td>1.000000</td>\n",
       "    </tr>\n",
       "  </tbody>\n",
       "</table>\n",
       "</div>"
      ],
      "text/plain": [
       "             Open        High         Low      Volume\n",
       "count  494.000000  494.000000  494.000000  494.000000\n",
       "mean     0.370041    0.383290    0.373917    0.057842\n",
       "std      0.198733    0.206315    0.193206    0.090380\n",
       "min      0.000000    0.000000    0.000000    0.000000\n",
       "25%      0.245698    0.254125    0.254181    0.017957\n",
       "50%      0.338187    0.346535    0.346154    0.034123\n",
       "75%      0.467075    0.471452    0.461538    0.063309\n",
       "max      1.000000    1.000000    1.000000    1.000000"
      ]
     },
     "execution_count": 12,
     "metadata": {},
     "output_type": "execute_result"
    }
   ],
   "source": [
    "dfx.describe()"
   ]
  },
  {
   "cell_type": "code",
   "execution_count": 13,
   "id": "52048533",
   "metadata": {},
   "outputs": [],
   "source": [
    "# 두 데이터를 리스트 형태로 저장\n",
    "X = dfx.values.tolist()\n",
    "y = dfy.values.tolist()"
   ]
  },
  {
   "cell_type": "code",
   "execution_count": 14,
   "id": "1181ddc7",
   "metadata": {},
   "outputs": [
    {
     "name": "stdout",
     "output_type": "stream",
     "text": [
      "[[0.24619457312874787, 0.24422442244063217, 0.24882943143646266, 0.032060259680403984], [0.2395764394424912, 0.24224422442084326, 0.2548494983260545, 0.019701005983455123], [0.23295830575623455, 0.2726072607242732, 0.2615384615367121, 0.02594171891264661], [0.2375909993366142, 0.22640264026253198, 0.11371237458117918, 0.6206931829920151], [0.10853739245460928, 0.11353135313456414, 0.05953177257485263, 0.44387927403908894], [0.08007941760370563, 0.2277227722757246, 0.10702341137052157, 0.9999999999999504], [0.23891462607386554, 0.233003300328495, 0.22809364548342412, 0.25578430554561016], [0.21773659827784422, 0.21848184818337635, 0.21070234113571434, 0.08275823023194422], [0.18596955658381223, 0.2541254125395767, 0.21404682274104314, 0.21894641906440862], [0.22567835870135222, 0.2475247524736137, 0.23545150501514747, 0.059711892218325645]] -> [0.22721268163654415]\n"
     ]
    }
   ],
   "source": [
    "#순차 훈련 데이터로 - 1\n",
    "window_size = 10\n",
    "\n",
    "data_X = []\n",
    "data_y = []\n",
    "for i in range(len(y) - window_size):\n",
    "    _X = X[i : i + window_size] # 다음 날 종가(i+windows_size)는 포함되지 않음\n",
    "    _y = y[i + window_size]     # 다음 날 종가\n",
    "    data_X.append(_X)\n",
    "    data_y.append(_y)\n",
    "print(_X, \"->\", _y)"
   ]
  },
  {
   "cell_type": "code",
   "execution_count": 15,
   "id": "3b8fa8cd-5b38-442a-93f2-9e4e46b9ab95",
   "metadata": {},
   "outputs": [],
   "source": [
    "#순차 훈련 데이터로 - 2 (함수로)\n",
    "#def make_sample(data, window) :\n",
    "#    train = []\n",
    "#    target = []\n",
    "#    for i in range(len(data)-window):\n",
    "#        train.append(data[i:i+window])\n",
    "#        train.append(data[i+window])\n",
    "#    return np.array(train), np,array(target)"
   ]
  },
  {
   "cell_type": "code",
   "execution_count": 16,
   "id": "b018ab4d",
   "metadata": {},
   "outputs": [
    {
     "name": "stdout",
     "output_type": "stream",
     "text": [
      "전체 데이터의 크기 : 484 484\n"
     ]
    }
   ],
   "source": [
    "print('전체 데이터의 크기 :', len(data_X), len(data_y))"
   ]
  },
  {
   "cell_type": "code",
   "execution_count": 17,
   "id": "13010166",
   "metadata": {},
   "outputs": [
    {
     "name": "stdout",
     "output_type": "stream",
     "text": [
      "훈련 데이터의 크기 : (338, 10, 4) (338, 1)\n",
      "테스트 데이터의 크기 : (146, 10, 4) (146, 1)\n"
     ]
    }
   ],
   "source": [
    "train_size = int(len(data_y) * 0.7)\n",
    "train_X = np.array(data_X[0 : train_size])\n",
    "train_y = np.array(data_y[0 : train_size])\n",
    "\n",
    "test_size = len(data_y) - train_size\n",
    "test_X = np.array(data_X[train_size : len(data_X)])\n",
    "test_y = np.array(data_y[train_size : len(data_y)])\n",
    "\n",
    "print('훈련 데이터의 크기 :', train_X.shape, train_y.shape)\n",
    "print('테스트 데이터의 크기 :', test_X.shape, test_y.shape)"
   ]
  },
  {
   "cell_type": "code",
   "execution_count": 18,
   "id": "2555be4b",
   "metadata": {},
   "outputs": [],
   "source": [
    "from tensorflow.keras import Sequential\n",
    "from tensorflow.keras.layers import Dense, LSTM, Dropout, RNN, SimpleRNN"
   ]
  },
  {
   "cell_type": "code",
   "execution_count": 19,
   "id": "7697b37b-9896-405a-a319-376cc55dc3a7",
   "metadata": {},
   "outputs": [
    {
     "name": "stderr",
     "output_type": "stream",
     "text": [
      "C:\\Users\\tpfzl\\anaconda3\\Lib\\site-packages\\keras\\src\\layers\\rnn\\rnn.py:205: UserWarning: Do not pass an `input_shape`/`input_dim` argument to a layer. When using Sequential models, prefer using an `Input(shape)` object as the first layer in the model instead.\n",
      "  super().__init__(**kwargs)\n"
     ]
    },
    {
     "data": {
      "text/html": [
       "<pre style=\"white-space:pre;overflow-x:auto;line-height:normal;font-family:Menlo,'DejaVu Sans Mono',consolas,'Courier New',monospace\"><span style=\"font-weight: bold\">Model: \"sequential\"</span>\n",
       "</pre>\n"
      ],
      "text/plain": [
       "\u001b[1mModel: \"sequential\"\u001b[0m\n"
      ]
     },
     "metadata": {},
     "output_type": "display_data"
    },
    {
     "data": {
      "text/html": [
       "<pre style=\"white-space:pre;overflow-x:auto;line-height:normal;font-family:Menlo,'DejaVu Sans Mono',consolas,'Courier New',monospace\">┏━━━━━━━━━━━━━━━━━━━━━━━━━━━━━━━━━━━━━━┳━━━━━━━━━━━━━━━━━━━━━━━━━━━━━┳━━━━━━━━━━━━━━━━━┓\n",
       "┃<span style=\"font-weight: bold\"> Layer (type)                         </span>┃<span style=\"font-weight: bold\"> Output Shape                </span>┃<span style=\"font-weight: bold\">         Param # </span>┃\n",
       "┡━━━━━━━━━━━━━━━━━━━━━━━━━━━━━━━━━━━━━━╇━━━━━━━━━━━━━━━━━━━━━━━━━━━━━╇━━━━━━━━━━━━━━━━━┩\n",
       "│ lstm (<span style=\"color: #0087ff; text-decoration-color: #0087ff\">LSTM</span>)                          │ (<span style=\"color: #00d7ff; text-decoration-color: #00d7ff\">None</span>, <span style=\"color: #00af00; text-decoration-color: #00af00\">10</span>, <span style=\"color: #00af00; text-decoration-color: #00af00\">16</span>)              │           <span style=\"color: #00af00; text-decoration-color: #00af00\">1,344</span> │\n",
       "├──────────────────────────────────────┼─────────────────────────────┼─────────────────┤\n",
       "│ dropout (<span style=\"color: #0087ff; text-decoration-color: #0087ff\">Dropout</span>)                    │ (<span style=\"color: #00d7ff; text-decoration-color: #00d7ff\">None</span>, <span style=\"color: #00af00; text-decoration-color: #00af00\">10</span>, <span style=\"color: #00af00; text-decoration-color: #00af00\">16</span>)              │               <span style=\"color: #00af00; text-decoration-color: #00af00\">0</span> │\n",
       "├──────────────────────────────────────┼─────────────────────────────┼─────────────────┤\n",
       "│ lstm_1 (<span style=\"color: #0087ff; text-decoration-color: #0087ff\">LSTM</span>)                        │ (<span style=\"color: #00d7ff; text-decoration-color: #00d7ff\">None</span>, <span style=\"color: #00af00; text-decoration-color: #00af00\">20</span>)                  │           <span style=\"color: #00af00; text-decoration-color: #00af00\">2,960</span> │\n",
       "├──────────────────────────────────────┼─────────────────────────────┼─────────────────┤\n",
       "│ dropout_1 (<span style=\"color: #0087ff; text-decoration-color: #0087ff\">Dropout</span>)                  │ (<span style=\"color: #00d7ff; text-decoration-color: #00d7ff\">None</span>, <span style=\"color: #00af00; text-decoration-color: #00af00\">20</span>)                  │               <span style=\"color: #00af00; text-decoration-color: #00af00\">0</span> │\n",
       "├──────────────────────────────────────┼─────────────────────────────┼─────────────────┤\n",
       "│ dense (<span style=\"color: #0087ff; text-decoration-color: #0087ff\">Dense</span>)                        │ (<span style=\"color: #00d7ff; text-decoration-color: #00d7ff\">None</span>, <span style=\"color: #00af00; text-decoration-color: #00af00\">1</span>)                   │              <span style=\"color: #00af00; text-decoration-color: #00af00\">21</span> │\n",
       "└──────────────────────────────────────┴─────────────────────────────┴─────────────────┘\n",
       "</pre>\n"
      ],
      "text/plain": [
       "┏━━━━━━━━━━━━━━━━━━━━━━━━━━━━━━━━━━━━━━┳━━━━━━━━━━━━━━━━━━━━━━━━━━━━━┳━━━━━━━━━━━━━━━━━┓\n",
       "┃\u001b[1m \u001b[0m\u001b[1mLayer (type)                        \u001b[0m\u001b[1m \u001b[0m┃\u001b[1m \u001b[0m\u001b[1mOutput Shape               \u001b[0m\u001b[1m \u001b[0m┃\u001b[1m \u001b[0m\u001b[1m        Param #\u001b[0m\u001b[1m \u001b[0m┃\n",
       "┡━━━━━━━━━━━━━━━━━━━━━━━━━━━━━━━━━━━━━━╇━━━━━━━━━━━━━━━━━━━━━━━━━━━━━╇━━━━━━━━━━━━━━━━━┩\n",
       "│ lstm (\u001b[38;5;33mLSTM\u001b[0m)                          │ (\u001b[38;5;45mNone\u001b[0m, \u001b[38;5;34m10\u001b[0m, \u001b[38;5;34m16\u001b[0m)              │           \u001b[38;5;34m1,344\u001b[0m │\n",
       "├──────────────────────────────────────┼─────────────────────────────┼─────────────────┤\n",
       "│ dropout (\u001b[38;5;33mDropout\u001b[0m)                    │ (\u001b[38;5;45mNone\u001b[0m, \u001b[38;5;34m10\u001b[0m, \u001b[38;5;34m16\u001b[0m)              │               \u001b[38;5;34m0\u001b[0m │\n",
       "├──────────────────────────────────────┼─────────────────────────────┼─────────────────┤\n",
       "│ lstm_1 (\u001b[38;5;33mLSTM\u001b[0m)                        │ (\u001b[38;5;45mNone\u001b[0m, \u001b[38;5;34m20\u001b[0m)                  │           \u001b[38;5;34m2,960\u001b[0m │\n",
       "├──────────────────────────────────────┼─────────────────────────────┼─────────────────┤\n",
       "│ dropout_1 (\u001b[38;5;33mDropout\u001b[0m)                  │ (\u001b[38;5;45mNone\u001b[0m, \u001b[38;5;34m20\u001b[0m)                  │               \u001b[38;5;34m0\u001b[0m │\n",
       "├──────────────────────────────────────┼─────────────────────────────┼─────────────────┤\n",
       "│ dense (\u001b[38;5;33mDense\u001b[0m)                        │ (\u001b[38;5;45mNone\u001b[0m, \u001b[38;5;34m1\u001b[0m)                   │              \u001b[38;5;34m21\u001b[0m │\n",
       "└──────────────────────────────────────┴─────────────────────────────┴─────────────────┘\n"
      ]
     },
     "metadata": {},
     "output_type": "display_data"
    },
    {
     "data": {
      "text/html": [
       "<pre style=\"white-space:pre;overflow-x:auto;line-height:normal;font-family:Menlo,'DejaVu Sans Mono',consolas,'Courier New',monospace\"><span style=\"font-weight: bold\"> Total params: </span><span style=\"color: #00af00; text-decoration-color: #00af00\">4,325</span> (16.89 KB)\n",
       "</pre>\n"
      ],
      "text/plain": [
       "\u001b[1m Total params: \u001b[0m\u001b[38;5;34m4,325\u001b[0m (16.89 KB)\n"
      ]
     },
     "metadata": {},
     "output_type": "display_data"
    },
    {
     "data": {
      "text/html": [
       "<pre style=\"white-space:pre;overflow-x:auto;line-height:normal;font-family:Menlo,'DejaVu Sans Mono',consolas,'Courier New',monospace\"><span style=\"font-weight: bold\"> Trainable params: </span><span style=\"color: #00af00; text-decoration-color: #00af00\">4,325</span> (16.89 KB)\n",
       "</pre>\n"
      ],
      "text/plain": [
       "\u001b[1m Trainable params: \u001b[0m\u001b[38;5;34m4,325\u001b[0m (16.89 KB)\n"
      ]
     },
     "metadata": {},
     "output_type": "display_data"
    },
    {
     "data": {
      "text/html": [
       "<pre style=\"white-space:pre;overflow-x:auto;line-height:normal;font-family:Menlo,'DejaVu Sans Mono',consolas,'Courier New',monospace\"><span style=\"font-weight: bold\"> Non-trainable params: </span><span style=\"color: #00af00; text-decoration-color: #00af00\">0</span> (0.00 B)\n",
       "</pre>\n"
      ],
      "text/plain": [
       "\u001b[1m Non-trainable params: \u001b[0m\u001b[38;5;34m0\u001b[0m (0.00 B)\n"
      ]
     },
     "metadata": {},
     "output_type": "display_data"
    }
   ],
   "source": [
    "model = Sequential()\n",
    "model.add(LSTM(units=16, activation='relu', return_sequences=True, input_shape=(10, 4)))\n",
    "model.add(Dropout(0.1))\n",
    "model.add(LSTM(units=20, activation='relu'))\n",
    "model.add(Dropout(0.1))\n",
    "model.add(Dense(units=1))\n",
    "model.summary()"
   ]
  },
  {
   "cell_type": "code",
   "execution_count": 20,
   "id": "6233265a",
   "metadata": {},
   "outputs": [
    {
     "name": "stdout",
     "output_type": "stream",
     "text": [
      "Epoch 1/70\n",
      "\u001b[1m12/12\u001b[0m \u001b[32m━━━━━━━━━━━━━━━━━━━━\u001b[0m\u001b[37m\u001b[0m \u001b[1m4s\u001b[0m 5ms/step - loss: 0.1583\n",
      "Epoch 2/70\n",
      "\u001b[1m12/12\u001b[0m \u001b[32m━━━━━━━━━━━━━━━━━━━━\u001b[0m\u001b[37m\u001b[0m \u001b[1m0s\u001b[0m 6ms/step - loss: 0.1160\n",
      "Epoch 3/70\n",
      "\u001b[1m12/12\u001b[0m \u001b[32m━━━━━━━━━━━━━━━━━━━━\u001b[0m\u001b[37m\u001b[0m \u001b[1m0s\u001b[0m 6ms/step - loss: 0.0436\n",
      "Epoch 4/70\n",
      "\u001b[1m12/12\u001b[0m \u001b[32m━━━━━━━━━━━━━━━━━━━━\u001b[0m\u001b[37m\u001b[0m \u001b[1m0s\u001b[0m 5ms/step - loss: 0.0236\n",
      "Epoch 5/70\n",
      "\u001b[1m12/12\u001b[0m \u001b[32m━━━━━━━━━━━━━━━━━━━━\u001b[0m\u001b[37m\u001b[0m \u001b[1m0s\u001b[0m 5ms/step - loss: 0.0182 \n",
      "Epoch 6/70\n",
      "\u001b[1m12/12\u001b[0m \u001b[32m━━━━━━━━━━━━━━━━━━━━\u001b[0m\u001b[37m\u001b[0m \u001b[1m0s\u001b[0m 5ms/step - loss: 0.0193 \n",
      "Epoch 7/70\n",
      "\u001b[1m12/12\u001b[0m \u001b[32m━━━━━━━━━━━━━━━━━━━━\u001b[0m\u001b[37m\u001b[0m \u001b[1m0s\u001b[0m 6ms/step - loss: 0.0108\n",
      "Epoch 8/70\n",
      "\u001b[1m12/12\u001b[0m \u001b[32m━━━━━━━━━━━━━━━━━━━━\u001b[0m\u001b[37m\u001b[0m \u001b[1m0s\u001b[0m 5ms/step - loss: 0.0129\n",
      "Epoch 9/70\n",
      "\u001b[1m12/12\u001b[0m \u001b[32m━━━━━━━━━━━━━━━━━━━━\u001b[0m\u001b[37m\u001b[0m \u001b[1m0s\u001b[0m 4ms/step - loss: 0.0139 \n",
      "Epoch 10/70\n",
      "\u001b[1m12/12\u001b[0m \u001b[32m━━━━━━━━━━━━━━━━━━━━\u001b[0m\u001b[37m\u001b[0m \u001b[1m0s\u001b[0m 5ms/step - loss: 0.0108\n",
      "Epoch 11/70\n",
      "\u001b[1m12/12\u001b[0m \u001b[32m━━━━━━━━━━━━━━━━━━━━\u001b[0m\u001b[37m\u001b[0m \u001b[1m0s\u001b[0m 5ms/step - loss: 0.0113 \n",
      "Epoch 12/70\n",
      "\u001b[1m12/12\u001b[0m \u001b[32m━━━━━━━━━━━━━━━━━━━━\u001b[0m\u001b[37m\u001b[0m \u001b[1m0s\u001b[0m 5ms/step - loss: 0.0130\n",
      "Epoch 13/70\n",
      "\u001b[1m12/12\u001b[0m \u001b[32m━━━━━━━━━━━━━━━━━━━━\u001b[0m\u001b[37m\u001b[0m \u001b[1m0s\u001b[0m 5ms/step - loss: 0.0108\n",
      "Epoch 14/70\n",
      "\u001b[1m12/12\u001b[0m \u001b[32m━━━━━━━━━━━━━━━━━━━━\u001b[0m\u001b[37m\u001b[0m \u001b[1m0s\u001b[0m 5ms/step - loss: 0.0098\n",
      "Epoch 15/70\n",
      "\u001b[1m12/12\u001b[0m \u001b[32m━━━━━━━━━━━━━━━━━━━━\u001b[0m\u001b[37m\u001b[0m \u001b[1m0s\u001b[0m 5ms/step - loss: 0.0123\n",
      "Epoch 16/70\n",
      "\u001b[1m12/12\u001b[0m \u001b[32m━━━━━━━━━━━━━━━━━━━━\u001b[0m\u001b[37m\u001b[0m \u001b[1m0s\u001b[0m 5ms/step - loss: 0.0115\n",
      "Epoch 17/70\n",
      "\u001b[1m12/12\u001b[0m \u001b[32m━━━━━━━━━━━━━━━━━━━━\u001b[0m\u001b[37m\u001b[0m \u001b[1m0s\u001b[0m 9ms/step - loss: 0.0078 \n",
      "Epoch 18/70\n",
      "\u001b[1m12/12\u001b[0m \u001b[32m━━━━━━━━━━━━━━━━━━━━\u001b[0m\u001b[37m\u001b[0m \u001b[1m0s\u001b[0m 5ms/step - loss: 0.0108\n",
      "Epoch 19/70\n",
      "\u001b[1m12/12\u001b[0m \u001b[32m━━━━━━━━━━━━━━━━━━━━\u001b[0m\u001b[37m\u001b[0m \u001b[1m0s\u001b[0m 5ms/step - loss: 0.0105\n",
      "Epoch 20/70\n",
      "\u001b[1m12/12\u001b[0m \u001b[32m━━━━━━━━━━━━━━━━━━━━\u001b[0m\u001b[37m\u001b[0m \u001b[1m0s\u001b[0m 6ms/step - loss: 0.0110\n",
      "Epoch 21/70\n",
      "\u001b[1m12/12\u001b[0m \u001b[32m━━━━━━━━━━━━━━━━━━━━\u001b[0m\u001b[37m\u001b[0m \u001b[1m0s\u001b[0m 5ms/step - loss: 0.0078\n",
      "Epoch 22/70\n",
      "\u001b[1m12/12\u001b[0m \u001b[32m━━━━━━━━━━━━━━━━━━━━\u001b[0m\u001b[37m\u001b[0m \u001b[1m0s\u001b[0m 5ms/step - loss: 0.0106\n",
      "Epoch 23/70\n",
      "\u001b[1m12/12\u001b[0m \u001b[32m━━━━━━━━━━━━━━━━━━━━\u001b[0m\u001b[37m\u001b[0m \u001b[1m0s\u001b[0m 6ms/step - loss: 0.0094\n",
      "Epoch 24/70\n",
      "\u001b[1m12/12\u001b[0m \u001b[32m━━━━━━━━━━━━━━━━━━━━\u001b[0m\u001b[37m\u001b[0m \u001b[1m0s\u001b[0m 6ms/step - loss: 0.0076\n",
      "Epoch 25/70\n",
      "\u001b[1m12/12\u001b[0m \u001b[32m━━━━━━━━━━━━━━━━━━━━\u001b[0m\u001b[37m\u001b[0m \u001b[1m0s\u001b[0m 5ms/step - loss: 0.0088\n",
      "Epoch 26/70\n",
      "\u001b[1m12/12\u001b[0m \u001b[32m━━━━━━━━━━━━━━━━━━━━\u001b[0m\u001b[37m\u001b[0m \u001b[1m0s\u001b[0m 5ms/step - loss: 0.0078\n",
      "Epoch 27/70\n",
      "\u001b[1m12/12\u001b[0m \u001b[32m━━━━━━━━━━━━━━━━━━━━\u001b[0m\u001b[37m\u001b[0m \u001b[1m0s\u001b[0m 5ms/step - loss: 0.0076\n",
      "Epoch 28/70\n",
      "\u001b[1m12/12\u001b[0m \u001b[32m━━━━━━━━━━━━━━━━━━━━\u001b[0m\u001b[37m\u001b[0m \u001b[1m0s\u001b[0m 6ms/step - loss: 0.0087\n",
      "Epoch 29/70\n",
      "\u001b[1m12/12\u001b[0m \u001b[32m━━━━━━━━━━━━━━━━━━━━\u001b[0m\u001b[37m\u001b[0m \u001b[1m0s\u001b[0m 6ms/step - loss: 0.0070\n",
      "Epoch 30/70\n",
      "\u001b[1m12/12\u001b[0m \u001b[32m━━━━━━━━━━━━━━━━━━━━\u001b[0m\u001b[37m\u001b[0m \u001b[1m0s\u001b[0m 6ms/step - loss: 0.0104\n",
      "Epoch 31/70\n",
      "\u001b[1m12/12\u001b[0m \u001b[32m━━━━━━━━━━━━━━━━━━━━\u001b[0m\u001b[37m\u001b[0m \u001b[1m0s\u001b[0m 8ms/step - loss: 0.0088\n",
      "Epoch 32/70\n",
      "\u001b[1m12/12\u001b[0m \u001b[32m━━━━━━━━━━━━━━━━━━━━\u001b[0m\u001b[37m\u001b[0m \u001b[1m0s\u001b[0m 7ms/step - loss: 0.0083\n",
      "Epoch 33/70\n",
      "\u001b[1m12/12\u001b[0m \u001b[32m━━━━━━━━━━━━━━━━━━━━\u001b[0m\u001b[37m\u001b[0m \u001b[1m0s\u001b[0m 6ms/step - loss: 0.0089\n",
      "Epoch 34/70\n",
      "\u001b[1m12/12\u001b[0m \u001b[32m━━━━━━━━━━━━━━━━━━━━\u001b[0m\u001b[37m\u001b[0m \u001b[1m0s\u001b[0m 7ms/step - loss: 0.0099\n",
      "Epoch 35/70\n",
      "\u001b[1m12/12\u001b[0m \u001b[32m━━━━━━━━━━━━━━━━━━━━\u001b[0m\u001b[37m\u001b[0m \u001b[1m0s\u001b[0m 6ms/step - loss: 0.0065\n",
      "Epoch 36/70\n",
      "\u001b[1m12/12\u001b[0m \u001b[32m━━━━━━━━━━━━━━━━━━━━\u001b[0m\u001b[37m\u001b[0m \u001b[1m0s\u001b[0m 6ms/step - loss: 0.0081\n",
      "Epoch 37/70\n",
      "\u001b[1m12/12\u001b[0m \u001b[32m━━━━━━━━━━━━━━━━━━━━\u001b[0m\u001b[37m\u001b[0m \u001b[1m0s\u001b[0m 4ms/step - loss: 0.0086 \n",
      "Epoch 38/70\n",
      "\u001b[1m12/12\u001b[0m \u001b[32m━━━━━━━━━━━━━━━━━━━━\u001b[0m\u001b[37m\u001b[0m \u001b[1m0s\u001b[0m 6ms/step - loss: 0.0072\n",
      "Epoch 39/70\n",
      "\u001b[1m12/12\u001b[0m \u001b[32m━━━━━━━━━━━━━━━━━━━━\u001b[0m\u001b[37m\u001b[0m \u001b[1m0s\u001b[0m 6ms/step - loss: 0.0074\n",
      "Epoch 40/70\n",
      "\u001b[1m12/12\u001b[0m \u001b[32m━━━━━━━━━━━━━━━━━━━━\u001b[0m\u001b[37m\u001b[0m \u001b[1m0s\u001b[0m 4ms/step - loss: 0.0075 \n",
      "Epoch 41/70\n",
      "\u001b[1m12/12\u001b[0m \u001b[32m━━━━━━━━━━━━━━━━━━━━\u001b[0m\u001b[37m\u001b[0m \u001b[1m0s\u001b[0m 6ms/step - loss: 0.0065\n",
      "Epoch 42/70\n",
      "\u001b[1m12/12\u001b[0m \u001b[32m━━━━━━━━━━━━━━━━━━━━\u001b[0m\u001b[37m\u001b[0m \u001b[1m0s\u001b[0m 6ms/step - loss: 0.0064\n",
      "Epoch 43/70\n",
      "\u001b[1m12/12\u001b[0m \u001b[32m━━━━━━━━━━━━━━━━━━━━\u001b[0m\u001b[37m\u001b[0m \u001b[1m0s\u001b[0m 6ms/step - loss: 0.0055\n",
      "Epoch 44/70\n",
      "\u001b[1m12/12\u001b[0m \u001b[32m━━━━━━━━━━━━━━━━━━━━\u001b[0m\u001b[37m\u001b[0m \u001b[1m0s\u001b[0m 5ms/step - loss: 0.0063\n",
      "Epoch 45/70\n",
      "\u001b[1m12/12\u001b[0m \u001b[32m━━━━━━━━━━━━━━━━━━━━\u001b[0m\u001b[37m\u001b[0m \u001b[1m0s\u001b[0m 6ms/step - loss: 0.0068\n",
      "Epoch 46/70\n",
      "\u001b[1m12/12\u001b[0m \u001b[32m━━━━━━━━━━━━━━━━━━━━\u001b[0m\u001b[37m\u001b[0m \u001b[1m0s\u001b[0m 6ms/step - loss: 0.0063\n",
      "Epoch 47/70\n",
      "\u001b[1m12/12\u001b[0m \u001b[32m━━━━━━━━━━━━━━━━━━━━\u001b[0m\u001b[37m\u001b[0m \u001b[1m0s\u001b[0m 5ms/step - loss: 0.0080\n",
      "Epoch 48/70\n",
      "\u001b[1m12/12\u001b[0m \u001b[32m━━━━━━━━━━━━━━━━━━━━\u001b[0m\u001b[37m\u001b[0m \u001b[1m0s\u001b[0m 6ms/step - loss: 0.0062\n",
      "Epoch 49/70\n",
      "\u001b[1m12/12\u001b[0m \u001b[32m━━━━━━━━━━━━━━━━━━━━\u001b[0m\u001b[37m\u001b[0m \u001b[1m0s\u001b[0m 6ms/step - loss: 0.0069\n",
      "Epoch 50/70\n",
      "\u001b[1m12/12\u001b[0m \u001b[32m━━━━━━━━━━━━━━━━━━━━\u001b[0m\u001b[37m\u001b[0m \u001b[1m0s\u001b[0m 6ms/step - loss: 0.0064\n",
      "Epoch 51/70\n",
      "\u001b[1m12/12\u001b[0m \u001b[32m━━━━━━━━━━━━━━━━━━━━\u001b[0m\u001b[37m\u001b[0m \u001b[1m0s\u001b[0m 5ms/step - loss: 0.0060\n",
      "Epoch 52/70\n",
      "\u001b[1m12/12\u001b[0m \u001b[32m━━━━━━━━━━━━━━━━━━━━\u001b[0m\u001b[37m\u001b[0m \u001b[1m0s\u001b[0m 5ms/step - loss: 0.0065\n",
      "Epoch 53/70\n",
      "\u001b[1m12/12\u001b[0m \u001b[32m━━━━━━━━━━━━━━━━━━━━\u001b[0m\u001b[37m\u001b[0m \u001b[1m0s\u001b[0m 5ms/step - loss: 0.0057\n",
      "Epoch 54/70\n",
      "\u001b[1m12/12\u001b[0m \u001b[32m━━━━━━━━━━━━━━━━━━━━\u001b[0m\u001b[37m\u001b[0m \u001b[1m0s\u001b[0m 6ms/step - loss: 0.0068\n",
      "Epoch 55/70\n",
      "\u001b[1m12/12\u001b[0m \u001b[32m━━━━━━━━━━━━━━━━━━━━\u001b[0m\u001b[37m\u001b[0m \u001b[1m0s\u001b[0m 5ms/step - loss: 0.0066\n",
      "Epoch 56/70\n",
      "\u001b[1m12/12\u001b[0m \u001b[32m━━━━━━━━━━━━━━━━━━━━\u001b[0m\u001b[37m\u001b[0m \u001b[1m0s\u001b[0m 4ms/step - loss: 0.0060 \n",
      "Epoch 57/70\n",
      "\u001b[1m12/12\u001b[0m \u001b[32m━━━━━━━━━━━━━━━━━━━━\u001b[0m\u001b[37m\u001b[0m \u001b[1m0s\u001b[0m 6ms/step - loss: 0.0055\n",
      "Epoch 58/70\n",
      "\u001b[1m12/12\u001b[0m \u001b[32m━━━━━━━━━━━━━━━━━━━━\u001b[0m\u001b[37m\u001b[0m \u001b[1m0s\u001b[0m 9ms/step - loss: 0.0069 \n",
      "Epoch 59/70\n",
      "\u001b[1m12/12\u001b[0m \u001b[32m━━━━━━━━━━━━━━━━━━━━\u001b[0m\u001b[37m\u001b[0m \u001b[1m0s\u001b[0m 6ms/step - loss: 0.0060\n",
      "Epoch 60/70\n",
      "\u001b[1m12/12\u001b[0m \u001b[32m━━━━━━━━━━━━━━━━━━━━\u001b[0m\u001b[37m\u001b[0m \u001b[1m0s\u001b[0m 5ms/step - loss: 0.0058\n",
      "Epoch 61/70\n",
      "\u001b[1m12/12\u001b[0m \u001b[32m━━━━━━━━━━━━━━━━━━━━\u001b[0m\u001b[37m\u001b[0m \u001b[1m0s\u001b[0m 5ms/step - loss: 0.0064\n",
      "Epoch 62/70\n",
      "\u001b[1m12/12\u001b[0m \u001b[32m━━━━━━━━━━━━━━━━━━━━\u001b[0m\u001b[37m\u001b[0m \u001b[1m0s\u001b[0m 5ms/step - loss: 0.0052 \n",
      "Epoch 63/70\n",
      "\u001b[1m12/12\u001b[0m \u001b[32m━━━━━━━━━━━━━━━━━━━━\u001b[0m\u001b[37m\u001b[0m \u001b[1m0s\u001b[0m 6ms/step - loss: 0.0063 \n",
      "Epoch 64/70\n",
      "\u001b[1m12/12\u001b[0m \u001b[32m━━━━━━━━━━━━━━━━━━━━\u001b[0m\u001b[37m\u001b[0m \u001b[1m0s\u001b[0m 6ms/step - loss: 0.0058\n",
      "Epoch 65/70\n",
      "\u001b[1m12/12\u001b[0m \u001b[32m━━━━━━━━━━━━━━━━━━━━\u001b[0m\u001b[37m\u001b[0m \u001b[1m0s\u001b[0m 5ms/step - loss: 0.0076\n",
      "Epoch 66/70\n",
      "\u001b[1m12/12\u001b[0m \u001b[32m━━━━━━━━━━━━━━━━━━━━\u001b[0m\u001b[37m\u001b[0m \u001b[1m0s\u001b[0m 4ms/step - loss: 0.0057 \n",
      "Epoch 67/70\n",
      "\u001b[1m12/12\u001b[0m \u001b[32m━━━━━━━━━━━━━━━━━━━━\u001b[0m\u001b[37m\u001b[0m \u001b[1m0s\u001b[0m 4ms/step - loss: 0.0057 \n",
      "Epoch 68/70\n",
      "\u001b[1m12/12\u001b[0m \u001b[32m━━━━━━━━━━━━━━━━━━━━\u001b[0m\u001b[37m\u001b[0m \u001b[1m0s\u001b[0m 5ms/step - loss: 0.0052\n",
      "Epoch 69/70\n",
      "\u001b[1m12/12\u001b[0m \u001b[32m━━━━━━━━━━━━━━━━━━━━\u001b[0m\u001b[37m\u001b[0m \u001b[1m0s\u001b[0m 4ms/step - loss: 0.0056 \n",
      "Epoch 70/70\n",
      "\u001b[1m12/12\u001b[0m \u001b[32m━━━━━━━━━━━━━━━━━━━━\u001b[0m\u001b[37m\u001b[0m \u001b[1m0s\u001b[0m 5ms/step - loss: 0.0055\n",
      "\u001b[1m5/5\u001b[0m \u001b[32m━━━━━━━━━━━━━━━━━━━━\u001b[0m\u001b[37m\u001b[0m \u001b[1m1s\u001b[0m 83ms/step\n"
     ]
    }
   ],
   "source": [
    "model.compile(optimizer='adam', loss='mean_squared_error')\n",
    "model.fit(train_X, train_y, epochs=70, batch_size=30)\n",
    "pred_y = model.predict(test_X)"
   ]
  },
  {
   "cell_type": "code",
   "execution_count": 21,
   "id": "8f3e0b55",
   "metadata": {},
   "outputs": [
    {
     "name": "stdout",
     "output_type": "stream",
     "text": [
      "\u001b[1m5/5\u001b[0m \u001b[32m━━━━━━━━━━━━━━━━━━━━\u001b[0m\u001b[37m\u001b[0m \u001b[1m0s\u001b[0m 4ms/step - loss: 0.0023  \n"
     ]
    },
    {
     "data": {
      "text/plain": [
       "0.0025551151484251022"
      ]
     },
     "execution_count": 21,
     "metadata": {},
     "output_type": "execute_result"
    }
   ],
   "source": [
    "model.evaluate(test_X, test_y)"
   ]
  },
  {
   "cell_type": "code",
   "execution_count": 22,
   "id": "b86fbabc",
   "metadata": {},
   "outputs": [
    {
     "name": "stdout",
     "output_type": "stream",
     "text": [
      "\u001b[1m5/5\u001b[0m \u001b[32m━━━━━━━━━━━━━━━━━━━━\u001b[0m\u001b[37m\u001b[0m \u001b[1m0s\u001b[0m 2ms/step \n"
     ]
    }
   ],
   "source": [
    "y_pred = model.predict(test_X)"
   ]
  },
  {
   "cell_type": "code",
   "execution_count": 23,
   "id": "49da07de",
   "metadata": {},
   "outputs": [
    {
     "name": "stdout",
     "output_type": "stream",
     "text": [
      "MSE: 0.0023958629151842694\n"
     ]
    }
   ],
   "source": [
    "mse = tf.reduce_mean(tf.square(test_y - y_pred))\n",
    "\n",
    "print(f'MSE: {mse.numpy()}')"
   ]
  },
  {
   "cell_type": "code",
   "execution_count": 24,
   "id": "3b422164",
   "metadata": {},
   "outputs": [
    {
     "name": "stdout",
     "output_type": "stream",
     "text": [
      "\u001b[1m5/5\u001b[0m \u001b[32m━━━━━━━━━━━━━━━━━━━━\u001b[0m\u001b[37m\u001b[0m \u001b[1m0s\u001b[0m 0s/step  \n"
     ]
    },
    {
     "data": {
      "image/png": "[encoded data removed]",
      "text/plain": [
       "<Figure size 640x480 with 1 Axes>"
      ]
     },
     "metadata": {},
     "output_type": "display_data"
    }
   ],
   "source": [
    "pred_y = model.predict(test_X)\n",
    "\n",
    "plt.figure()\n",
    "plt.plot(test_y, color='red', label='real stock price')\n",
    "plt.plot(pred_y, color='blue', label='predicted stock price')\n",
    "plt.title('stock price prediction')\n",
    "plt.xlabel('time')\n",
    "plt.ylabel('stock price')\n",
    "plt.legend()\n",
    "plt.show()\n"
   ]
  },
  {
   "cell_type": "code",
   "execution_count": null,
   "id": "78cfa75d-751f-4267-a6f5-4db1308b604b",
   "metadata": {},
   "outputs": [],
   "source": []
  }
 ],
 "metadata": {
  "kernelspec": {
   "display_name": "Python 3 (ipykernel)",
   "language": "python",
   "name": "python3"
  },
  "language_info": {
   "codemirror_mode": {
    "name": "ipython",
    "version": 3
   },
   "file_extension": ".py",
   "mimetype": "text/x-python",
   "name": "python",
   "nbconvert_exporter": "python",
   "pygments_lexer": "ipython3",
   "version": "3.11.7"
  }
 },
 "nbformat": 4,
 "nbformat_minor": 5
}
