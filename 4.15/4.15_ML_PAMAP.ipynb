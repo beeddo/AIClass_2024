{
 "cells": [
  {
   "cell_type": "code",
   "execution_count": 1,
   "id": "76679e09-f137-459e-910f-a985670e8f21",
   "metadata": {},
   "outputs": [],
   "source": [
    "import numpy as np\n",
    "import sklearn\n",
    "import seaborn as sns\n",
    "import pandas as pd\n",
    "import matplotlib.pyplot as plt\n",
    "from sklearn.model_selection import train_test_split"
   ]
  },
  {
   "cell_type": "code",
   "execution_count": null,
   "id": "05de41da-a8bf-4a30-a0dd-8c860ec3543d",
   "metadata": {},
   "outputs": [],
   "source": [
    "!pip install tensorflow"
   ]
  },
  {
   "cell_type": "code",
   "execution_count": null,
   "id": "8f40788e-3158-4331-889d-91b800474006",
   "metadata": {},
   "outputs": [],
   "source": [
    "df = pd.read_csv(\"C:/Ai/PAMAP_features.csv\", index_col=0)\n",
    "#레이블을 숫자로 변환\n",
    "from sklearn.preprocessing import StandardScaler, LabelEncoder\n",
    "\n",
    "# LabelEncoder 객체 생성\n",
    "label = LabelEncoder()\n",
    "\n",
    "#LabelEncoder를 적용하여 변환\n",
    "df['sub_id'] = label.fit_transform(df['sub_id'])\n",
    "df['activity_id'] = label.fit_transform(df['activity_id'])\n",
    "df['act_level'] = label.fit_transform(df['act_level'])\n",
    "\n",
    "df"
   ]
  },
  {
   "cell_type": "code",
   "execution_count": null,
   "id": "b05ee0c1-f618-4a63-b862-2c9c9fca2df5",
   "metadata": {},
   "outputs": [],
   "source": [
    "df.columns"
   ]
  },
  {
   "cell_type": "code",
   "execution_count": null,
   "id": "6b607426-5530-47cc-bf43-7a56cca159d2",
   "metadata": {},
   "outputs": [],
   "source": [
    "df.isnull().sum()"
   ]
  },
  {
   "cell_type": "code",
   "execution_count": null,
   "id": "c0f27009-c025-49b5-a430-8263b8de5016",
   "metadata": {},
   "outputs": [],
   "source": [
    "df['sub_id'].value_counts()"
   ]
  },
  {
   "cell_type": "code",
   "execution_count": null,
   "id": "5b9a9697-bea4-4b9f-8742-80b084f6e2bf",
   "metadata": {},
   "outputs": [],
   "source": [
    "df['activity_id'].value_counts()"
   ]
  },
  {
   "cell_type": "code",
   "execution_count": null,
   "id": "3e07ab57-2412-4060-8be8-3469639301f5",
   "metadata": {},
   "outputs": [],
   "source": [
    "df['act_level'].value_counts()"
   ]
  },
  {
   "cell_type": "code",
   "execution_count": null,
   "id": "8a777489-59db-402a-adff-e9d41dc1709c",
   "metadata": {},
   "outputs": [],
   "source": [
    "# 레이블 갯수 확인 (그래프)\n",
    "sns.countplot(data = df, x=\"sub_id\")\n",
    "plt.xlabel(\"id\")\n",
    "plt.ylabel(\"Count\")\n",
    "plt.title(\"subject\")"
   ]
  },
  {
   "cell_type": "code",
   "execution_count": null,
   "id": "2cdd3c4d-f60d-47c6-a5ff-8eddcb817257",
   "metadata": {},
   "outputs": [],
   "source": [
    "# 레이블 갯수 확인 (그래프)\n",
    "sns.countplot(data = df, x=\"activity_id\")\n",
    "plt.xlabel(\"id\")\n",
    "plt.ylabel(\"Count\")\n",
    "plt.title(\"Person Activity\")"
   ]
  },
  {
   "cell_type": "code",
   "execution_count": null,
   "id": "e9689d7e-3890-440c-8fdc-3296f546534c",
   "metadata": {},
   "outputs": [],
   "source": [
    "# 레이블 갯수 확인 (그래프)\n",
    "sns.countplot(data = df, x=\"act_level\")\n",
    "plt.xlabel(\"level\")\n",
    "plt.ylabel(\"Count\")\n",
    "plt.title(\"Person Activity level\")"
   ]
  },
  {
   "cell_type": "code",
   "execution_count": null,
   "id": "55db454a-7f68-4630-9c52-99e3d9755568",
   "metadata": {},
   "outputs": [],
   "source": [
    "df = df.dropna()"
   ]
  },
  {
   "cell_type": "code",
   "execution_count": null,
   "id": "a355e26d-df9b-4769-956d-47413aba950a",
   "metadata": {},
   "outputs": [],
   "source": [
    "new_df=df[['act_level', 'hr_mean', 'hr_mean_normal',\n",
    "       'hr_std', 'hr_std_normal', 'hand_tmp_mean', 'hand_tmp_std',\n",
    "       'hand_acc_x_mean', 'hand_acc_x_std', 'hand_acc_y_mean',\n",
    "       'hand_acc_y_std', 'hand_acc_z_mean', 'hand_acc_z_std',\n",
    "       'hand_gyr_x_mean', 'hand_gyr_x_std', 'hand_gyr_y_mean',\n",
    "       'hand_gyr_y_std', 'hand_gyr_z_mean', 'hand_gyr_z_std', 'chest_tmp_mean',\n",
    "       'chest_tmp_std', 'chest_acc_x_mean', 'chest_acc_x_std',\n",
    "       'chest_acc_y_mean', 'chest_acc_y_std', 'chest_acc_z_mean',\n",
    "       'chest_acc_z_std', 'chest_gyr_x_mean', 'chest_gyr_x_std',\n",
    "       'chest_gyr_y_mean', 'chest_gyr_y_std', 'chest_gyr_z_mean',\n",
    "       'chest_gyr_z_std', 'ankle_tmp_mean', 'ankle_tmp_std',\n",
    "       'ankle_acc_x_mean', 'ankle_acc_x_std', 'ankle_acc_y_mean',\n",
    "       'ankle_acc_y_std', 'ankle_acc_z_mean', 'ankle_acc_z_std',\n",
    "       'ankle_gyr_x_mean', 'ankle_gyr_x_std', 'ankle_gyr_y_mean',\n",
    "       'ankle_gyr_y_std', 'ankle_gyr_z_mean', 'ankle_gyr_z_std',\n",
    "       'hand_acc_xy_cor', 'hand_acc_yz_cor', 'hand_acc_xz_cor',\n",
    "       'chest_acc_xy_cor', 'chest_acc_yz_cor', 'chest_acc_xz_cor',\n",
    "       'ankle_acc_xy_cor', 'ankle_acc_yz_cor', 'ankle_acc_xz_cor',\n",
    "       'hand_gyr_xy_cor', 'hand_gyr_yz_cor', 'hand_gyr_xz_cor',\n",
    "       'chest_gyr_xy_cor', 'chest_gyr_yz_cor', 'chest_gyr_xz_cor',\n",
    "       'ankle_gyr_xy_cor', 'ankle_gyr_yz_cor', 'ankle_gyr_xz_cor']]\n",
    "\n",
    "new_df"
   ]
  },
  {
   "cell_type": "code",
   "execution_count": null,
   "id": "ee8a57b1-5908-447d-9309-57395571f091",
   "metadata": {},
   "outputs": [],
   "source": [
    "X=new_df.drop('act_level',axis=1)\n",
    "X.head()"
   ]
  },
  {
   "cell_type": "code",
   "execution_count": null,
   "id": "b0de75f0-9afd-4652-9ed9-836b42c6311c",
   "metadata": {},
   "outputs": [],
   "source": [
    "y=new_df['act_level']\n",
    "y.head()"
   ]
  },
  {
   "cell_type": "code",
   "execution_count": null,
   "id": "37e45b07-32ce-4643-b842-31f8f1a14456",
   "metadata": {},
   "outputs": [],
   "source": [
    "from sklearn.model_selection import train_test_split\n",
    "\n",
    "X_train, X_test, y_train, y_test = train_test_split(X, y,test_size=0.25,random_state=0)"
   ]
  },
  {
   "cell_type": "code",
   "execution_count": null,
   "id": "682c95e6-7daa-4fd8-98e9-c323eb648466",
   "metadata": {},
   "outputs": [],
   "source": [
    "#모델 학습 효율 높이기 위한 StandardScaler\n",
    "from sklearn.preprocessing import StandardScaler\n",
    "\n",
    "ss =StandardScaler()\n",
    "ss.fit(X_train)\n",
    "ss_train = ss.transform(X_train)\n",
    "ss_test = ss.transform(X_test)"
   ]
  },
  {
   "cell_type": "code",
   "execution_count": null,
   "id": "bd01ea92-792d-4cf7-a52f-6705965c7208",
   "metadata": {},
   "outputs": [],
   "source": [
    "from sklearn.linear_model import LogisticRegression #선형 분류 모델\n",
    "from sklearn.metrics import accuracy_score #분류 모델의 정확도 평가, 객관적인 지표 중 하나\n",
    "from sklearn.metrics import classification_report\n",
    "from sklearn.metrics import confusion_matrix #모델 성능 평가용 혼동 행렬 생성\n",
    "from sklearn.ensemble import RandomForestClassifier\n",
    "from sklearn.neural_network import MLPClassifier\n",
    "import warnings\n",
    "warnings.filterwarnings('ignore') #파이썬 경고 메세지 무시\n"
   ]
  },
  {
   "cell_type": "code",
   "execution_count": null,
   "id": "31ee2319-f871-4db3-ab5e-8f52d0874c6e",
   "metadata": {},
   "outputs": [],
   "source": [
    "clf_lr = LogisticRegression(random_state=0) #로지스틱 회귀 분석 모델 생성\n",
    "clf_lr.fit(ss_train, y_train) #모델 훈련\n",
    "\n",
    "pred_lr = clf_lr.predict(ss_test) #모델 테스트\n",
    "\n",
    "print (\"\\n--- Logistic Regression Classifier ---\")\n",
    "print(accuracy_score(y_test,pred_lr))\n",
    "print(classification_report(y_test, pred_lr))\n",
    "print (confusion_matrix(y_test, pred_lr)) # 얼마나 맞추고 어디서 틀렸는지"
   ]
  },
  {
   "cell_type": "code",
   "execution_count": null,
   "id": "62c2d646-6d25-451e-8349-663c388b7728",
   "metadata": {},
   "outputs": [],
   "source": [
    "print (\"\\n--- Radom Forest ---\")\n",
    "rf_clf = RandomForestClassifier(random_state=0) #랜덤 포레스트 분류기 모델 생성\n",
    "rf_clf.fit(ss_train, y_train)\n",
    "\n",
    "pred = rf_clf.predict(ss_test)\n",
    "\n",
    "print(accuracy_score(y_test,pred_lr))\n",
    "print(classification_report(y_test, pred_lr))\n",
    "print (confusion_matrix(y_test, pred))"
   ]
  },
  {
   "cell_type": "code",
   "execution_count": null,
   "id": "83c45df4-16ff-4a99-8a05-36c22df1391c",
   "metadata": {},
   "outputs": [],
   "source": [
    "clf_nn = MLPClassifier(random_state=0) # 다층 퍼셈트론 분류기 구현 [입력층, 1개 이상의 은닉층, 출력]\n",
    "clf_nn.fit(ss_train, y_train)\n",
    "\n",
    "pred_nn = clf_nn.predict(ss_test)\n",
    "\n",
    "print (\"\\n--- Neural Network Classifier ---\")\n",
    "print(accuracy_score(y_test,pred_lr))\n",
    "print(classification_report(y_test, pred_lr))\n",
    "print (confusion_matrix(y_test, pred_nn))"
   ]
  },
  {
   "cell_type": "code",
   "execution_count": null,
   "id": "a877f70e-64c8-4e39-8a2d-6eb6ce465723",
   "metadata": {},
   "outputs": [],
   "source": []
  }
 ],
 "metadata": {
  "kernelspec": {
   "display_name": "Python 3 (ipykernel)",
   "language": "python",
   "name": "python3"
  },
  "language_info": {
   "codemirror_mode": {
    "name": "ipython",
    "version": 3
   },
   "file_extension": ".py",
   "mimetype": "text/x-python",
   "name": "python",
   "nbconvert_exporter": "python",
   "pygments_lexer": "ipython3",
   "version": "3.11.7"
  }
 },
 "nbformat": 4,
 "nbformat_minor": 5
}
